{
 "cells": [
  {
   "cell_type": "code",
   "execution_count": null,
   "metadata": {},
   "outputs": [],
   "source": [
    "pip install jupyter_plotly_dash\n"
   ]
  },
  {
   "cell_type": "code",
   "execution_count": 12,
   "metadata": {},
   "outputs": [
    {
     "ename": "ModuleNotFoundError",
     "evalue": "No module named 'jupyter_plotly_dash'",
     "output_type": "error",
     "traceback": [
      "\u001b[1;31m---------------------------------------------------------------------------\u001b[0m",
      "\u001b[1;31mModuleNotFoundError\u001b[0m                       Traceback (most recent call last)",
      "\u001b[1;32m<ipython-input-12-fddc37798ff1>\u001b[0m in \u001b[0;36m<module>\u001b[1;34m\u001b[0m\n\u001b[1;32m----> 1\u001b[1;33m \u001b[1;32mfrom\u001b[0m \u001b[0mjupyter_plotly_dash\u001b[0m \u001b[1;32mimport\u001b[0m \u001b[0mJupyterDash\u001b[0m\u001b[1;33m\u001b[0m\u001b[1;33m\u001b[0m\u001b[0m\n\u001b[0m\u001b[0;32m      2\u001b[0m \u001b[1;32mfrom\u001b[0m \u001b[0mcalendar\u001b[0m \u001b[1;32mimport\u001b[0m \u001b[0mmonth\u001b[0m\u001b[1;33m\u001b[0m\u001b[1;33m\u001b[0m\u001b[0m\n\u001b[0;32m      3\u001b[0m \u001b[1;32mfrom\u001b[0m \u001b[0mctypes\u001b[0m \u001b[1;32mimport\u001b[0m \u001b[0malignment\u001b[0m\u001b[1;33m\u001b[0m\u001b[1;33m\u001b[0m\u001b[0m\n\u001b[0;32m      4\u001b[0m \u001b[1;32mfrom\u001b[0m \u001b[0mdistutils\u001b[0m\u001b[1;33m.\u001b[0m\u001b[0mlog\u001b[0m \u001b[1;32mimport\u001b[0m \u001b[0mdebug\u001b[0m\u001b[1;33m\u001b[0m\u001b[1;33m\u001b[0m\u001b[0m\n\u001b[0;32m      5\u001b[0m \u001b[1;32mfrom\u001b[0m \u001b[0murllib\u001b[0m\u001b[1;33m.\u001b[0m\u001b[0mparse\u001b[0m \u001b[1;32mimport\u001b[0m \u001b[0mMAX_CACHE_SIZE\u001b[0m\u001b[1;33m\u001b[0m\u001b[1;33m\u001b[0m\u001b[0m\n",
      "\u001b[1;31mModuleNotFoundError\u001b[0m: No module named 'jupyter_plotly_dash'"
     ]
    }
   ],
   "source": [
    "from jupyter_plotly_dash import JupyterDash\n",
    "from calendar import month\n",
    "from ctypes import alignment\n",
    "from distutils.log import debug\n",
    "from urllib.parse import MAX_CACHE_SIZE\n",
    "from click import style\n",
    "import dash\n",
    "import dash_html_components as html\n",
    "from numpy import average\n",
    "import plotly.graph_objects as go\n",
    "import dash_core_components as dcc\n",
    "import pandas as pd\n",
    "import plotly.express as px\n",
    "from dash.dependencies import Input, Output\n"
   ]
  },
  {
   "cell_type": "code",
   "execution_count": null,
   "metadata": {},
   "outputs": [],
   "source": [
    "app = dash.Dash()"
   ]
  },
  {
   "cell_type": "code",
   "execution_count": null,
   "metadata": {},
   "outputs": [],
   "source": [
    "df = pd.read_csv('Financial Sample.csv')"
   ]
  },
  {
   "cell_type": "code",
   "execution_count": null,
   "metadata": {},
   "outputs": [],
   "source": [
    "#Repacing comma and spaces\n",
    "df[' Manufacturing Price '] = df[' Manufacturing Price '].str.replace('$', '')\n",
    "df[' Sale Price '] = df[' Sale Price '].str.replace('$', '')\n",
    "df[' Gross Sales '] = df[' Gross Sales '].str.replace('$', '')\n",
    "df[' Gross Sales '] = df[' Gross Sales '].str.replace(',', '')\n",
    "df[' COGS '] = df[' COGS '].str.replace('$', '')\n",
    "df[' COGS '] = df[' COGS '].str.replace(',', '')\n",
    "df[' Profit '] = df[' Profit '].str.replace('$', '')\n",
    "df[' Profit '] = df[' Profit '].str.replace(',', '')\n",
    "df[' Profit '] = df[' Profit '].str.replace(' -   ', '')\n",
    "df[' Profit '] = df[' Profit '].str.replace(' ', '')\n",
    "df[' Profit '] = df[' Profit '].str.replace('-', '')\n",
    "df['  Sales ']=df['  Sales '].str.replace('$','')\n",
    "df['  Sales ']=df['  Sales '].str.replace(',','')"
   ]
  },
  {
   "cell_type": "code",
   "execution_count": null,
   "metadata": {},
   "outputs": [],
   "source": [
    "#Changing Datatype\n",
    "df['  Sales '] = df['  Sales '].astype('float')\n",
    "df[' Manufacturing Price '] = df[' Manufacturing Price '].astype('float')\n",
    "df[' Sale Price '] = df[' Sale Price '].astype('float')\n",
    "df[' Gross Sales '] = df[' Gross Sales '].astype('float')\n",
    "df[' COGS '] = df[' COGS '].astype('float')\n",
    "df[' Profit '] = df[' Profit '].astype('float')\n",
    "df['Date'] =  pd.to_datetime(df['Date'])"
   ]
  },
  {
   "cell_type": "code",
   "execution_count": null,
   "metadata": {},
   "outputs": [],
   "source": [
    "@app.callback(Output(\"graph\", \"figure\"),Input(\"dropdown\", \"value\"))\n",
    "def update_bar_chart(day): # replace with your own data source\n",
    "    mask = df['Country'] == day\n",
    "    fig = px.bar(df[mask], x=' Product ', y='  Sales ', color='Country', barmode='group')\n",
    "    return fig"
   ]
  },
  {
   "cell_type": "code",
   "execution_count": null,
   "metadata": {},
   "outputs": [],
   "source": [
    "fig2 = px.scatter(df, x ='  Sales ', y =' Product ',size=' Profit ',color=\"Segment\",size_max=90)"
   ]
  },
  {
   "cell_type": "code",
   "execution_count": null,
   "metadata": {},
   "outputs": [],
   "source": [
    "fig3 = px.histogram(df, x =' Month Name ',y='  Sales ')"
   ]
  },
  {
   "cell_type": "code",
   "execution_count": null,
   "metadata": {},
   "outputs": [],
   "source": [
    "fig4 = px.bar(df, x ='Country', y =' Profit ',barmode='group', color='Segment')"
   ]
  },
  {
   "cell_type": "code",
   "execution_count": null,
   "metadata": {},
   "outputs": [],
   "source": [
    "fig5 = px.scatter_3d(df, x ='Country', z =' Product ', y='  Sales ', color='Country')\n",
    "fig5.update_layout(\n",
    "    autosize=False,\n",
    "    width=1000,\n",
    "    height=1000,\n",
    ")"
   ]
  },
  {
   "cell_type": "code",
   "execution_count": null,
   "metadata": {},
   "outputs": [],
   "source": [
    "fig6 = go.Figure(data=[go.Pie(labels=df[' Month Name '], values=df[' Profit '], hole=.4)])"
   ]
  },
  {
   "cell_type": "code",
   "execution_count": null,
   "metadata": {},
   "outputs": [],
   "source": [
    "fig7 = px.funnel_area(names=df['Country'],values=df[' Profit '])"
   ]
  },
  {
   "cell_type": "code",
   "execution_count": null,
   "metadata": {},
   "outputs": [],
   "source": [
    "fig8 = go.Figure(go.Indicator(\n",
    "    mode = \"number+delta\",\n",
    "    value = average(df['  Sales ']),\n",
    "    delta = {\"reference\": 90, \"valueformat\": \".0f\"},\n",
    "    title = {\"text\": \"Sales\"},\n",
    "    domain = {'y': [0, 1], 'x': [0.25, 0.75]}))\n",
    "fig8.add_trace(go.Scatter(y = df['  Sales ']))\n",
    "fig8.update_layout(xaxis = {'range': [0, 62]})"
   ]
  },
  {
   "cell_type": "code",
   "execution_count": null,
   "metadata": {},
   "outputs": [],
   "source": [
    "fig9 = go.Figure(go.Indicator(\n",
    "    mode = \"number+delta\",\n",
    "    value = average(df[' Profit ']),\n",
    "    delta = {\"reference\": 90, \"valueformat\": \".0f\"},\n",
    "    title = {\"text\": \"Profit\"},\n",
    "    domain = {'y': [0, 1], 'x': [0.25, 0.75]}))\n",
    "fig9.add_trace(go.Scatter(y = df[' Profit ']))\n",
    "fig9.update_layout(xaxis = {'range': [0, 62]})"
   ]
  },
  {
   "cell_type": "code",
   "execution_count": null,
   "metadata": {},
   "outputs": [],
   "source": [
    "fig10 = px.sunburst(df, path=['Segment','Country',' Month Name '])\n",
    "fig10.update_layout(\n",
    "    autosize=False,\n",
    "    width=700,\n",
    "    height= 700,\n",
    ")"
   ]
  },
  {
   "cell_type": "code",
   "execution_count": 1,
   "metadata": {},
   "outputs": [
    {
     "ename": "NameError",
     "evalue": "name 'px' is not defined",
     "output_type": "error",
     "traceback": [
      "\u001b[1;31m---------------------------------------------------------------------------\u001b[0m",
      "\u001b[1;31mNameError\u001b[0m                                 Traceback (most recent call last)",
      "\u001b[1;32m<ipython-input-1-36cb3a866ac2>\u001b[0m in \u001b[0;36m<module>\u001b[1;34m\u001b[0m\n\u001b[1;32m----> 1\u001b[1;33m \u001b[0mfig11\u001b[0m \u001b[1;33m=\u001b[0m \u001b[0mpx\u001b[0m\u001b[1;33m.\u001b[0m\u001b[0mimshow\u001b[0m\u001b[1;33m(\u001b[0m\u001b[0mdf\u001b[0m\u001b[1;33m.\u001b[0m\u001b[0mcorr\u001b[0m\u001b[1;33m(\u001b[0m\u001b[1;33m)\u001b[0m\u001b[1;33m)\u001b[0m\u001b[1;33m\u001b[0m\u001b[1;33m\u001b[0m\u001b[0m\n\u001b[0m",
      "\u001b[1;31mNameError\u001b[0m: name 'px' is not defined"
     ]
    }
   ],
   "source": [
    "fig11 = px.imshow(df.corr())"
   ]
  },
  {
   "cell_type": "code",
   "execution_count": null,
   "metadata": {},
   "outputs": [],
   "source": [
    "app.layout = html.Div([\n",
    "  dcc.Graph(\n",
    "    id = 'bar3',\n",
    "    figure = fig4\n",
    "  ),\n",
    "  html.H4('Select Country'),\n",
    "    dcc.Dropdown(\n",
    "        id=\"dropdown\",\n",
    "        options=[\"Canada\", \"France\", \"Mexico\",\"United States of America\",\"Germany\"],\n",
    "        value=\"Canada\",\n",
    "        clearable=False,\n",
    "    ),\n",
    "    dcc.Graph(\n",
    "    id = 'graph',\n",
    "  ),\n",
    "\n",
    "  dcc.Graph(\n",
    "    id = 'Scatter',\n",
    "    figure = fig2\n",
    "  ),\n",
    "\n",
    "  dcc.Graph(\n",
    "    id = 'histogram',\n",
    "    figure = fig3\n",
    "  ),\n",
    "\n",
    "  dcc.Graph(\n",
    "    id = 'SCatter1',\n",
    "    figure = fig5\n",
    "  ),\n",
    "dcc.Graph(\n",
    "    id = 'indicator1',\n",
    "    figure = fig8\n",
    "  ),\n",
    "  dcc.Graph(\n",
    "    id = 'indicator2',\n",
    "    figure = fig9\n",
    "  ),\n",
    "  \n",
    "  dcc.Graph(\n",
    "    id = 'bar5',\n",
    "    figure = fig6\n",
    "  ),\n",
    "  dcc.Graph(\n",
    "    id = 'Funnel-area',\n",
    "    figure = fig7\n",
    "  ),\n",
    "  dcc.Graph(\n",
    "    id = 'sunburst',\n",
    "    figure = fig10\n",
    "  ),\n",
    "  dcc.Graph(\n",
    "    id = 'corr',\n",
    "    figure = fig11\n",
    "  )\n",
    "])"
   ]
  },
  {
   "cell_type": "code",
   "execution_count": null,
   "metadata": {},
   "outputs": [],
   "source": [
    "if __name__ == '__main__': \n",
    "    app.run_server(debug=True, port=8051)"
   ]
  },
  {
   "cell_type": "code",
   "execution_count": null,
   "metadata": {},
   "outputs": [],
   "source": []
  }
 ],
 "metadata": {
  "kernelspec": {
   "display_name": "Python 3",
   "language": "python",
   "name": "python3"
  }
 },
 "nbformat": 4,
 "nbformat_minor": 4
}
